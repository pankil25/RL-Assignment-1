{
  "cells": [
    {
      "cell_type": "code",
      "execution_count": 3,
      "metadata": {
        "id": "SpXfJ6XXLtTe"
      },
      "outputs": [],
      "source": [
        "from math import floor\n",
        "import copy\n",
        "import numpy as np\n",
        "import matplotlib.pyplot as plt\n",
        "from matplotlib import colors\n",
        "\n",
        "def row_col_to_seq(row_col, num_cols):  #Converts state number to row_column format\n",
        "    return row_col[:,0] * num_cols + row_col[:,1]\n",
        "\n",
        "def seq_to_col_row(seq, num_cols): #Converts row_column format to state number\n",
        "    r = floor(seq / num_cols)\n",
        "    c = seq - r * num_cols\n",
        "    return np.array([[r, c]])\n",
        "\n",
        "\n",
        "DOWN = 1\n",
        "UP = 0\n",
        "LEFT = 2\n",
        "RIGHT = 3\n",
        "actions = [UP, DOWN, LEFT, RIGHT]\n",
        "\n",
        "\n",
        "class GridWorld:\n",
        "    \"\"\"\n",
        "    Creates a gridworld object to pass to an RL algorithm.\n",
        "    Parameters\n",
        "    ----------\n",
        "    num_rows : int\n",
        "        The number of rows in the gridworld.\n",
        "    num_cols : int\n",
        "        The number of cols in the gridworld.\n",
        "    start_state : numpy array of shape (1, 2), np.array([[row, col]])\n",
        "        The start state of the gridworld (can only be one start state)\n",
        "    goal_states : numpy arrany of shape (n, 2)\n",
        "        The goal states for the gridworld where n is the number of goal\n",
        "        states.\n",
        "    \"\"\"\n",
        "    def __init__(self, num_rows, num_cols, start_state, goal_states, wind = False):\n",
        "        self.num_rows = num_rows\n",
        "        self.num_cols = num_cols\n",
        "        self.start_state = start_state\n",
        "        self.goal_states = goal_states\n",
        "        self.obs_states = None\n",
        "        self.bad_states = None\n",
        "        self.num_bad_states = 0\n",
        "        self.p_good_trans = None\n",
        "        self.bias = None\n",
        "        self.r_step = None\n",
        "        self.r_goal = None\n",
        "        self.r_dead = None\n",
        "        self.gamma = 1 # default is no discounting\n",
        "        self.wind = wind\n",
        "        self.grid=np.array([[0 for _ in range(num_cols)] for _ in range(num_rows)])\n",
        "        self.done = False\n",
        "        self.steps = 0\n",
        "        seed=None\n",
        "        self.random_generator = np.random.RandomState(seed)\n",
        "        self.max_steps=100\n",
        "        self.done=False\n",
        "\n",
        "    # this function useful for visuliaze grid\n",
        "    def create_grid(self):\n",
        "        for state in self.start_state:         # start state\n",
        "          self.grid[state[0]][state[1]] = 1\n",
        "\n",
        "        for state in self.goal_states:         # goal state\n",
        "          self.grid[state[0]][state[1]] = 2\n",
        "\n",
        "        for state in self.obs_states:\n",
        "          self.grid[state[0]][state[1]] = 3    # obstacles state\n",
        "\n",
        "        for state in self.bad_states:\n",
        "          self.grid[state[0]][state[1]] = 4    # bad state\n",
        "\n",
        "        for state in self.restart_states:\n",
        "          self.grid[state[0]][state[1]] = 5    # restart state\n",
        "\n",
        "\n",
        "    def add_obstructions(self, obstructed_states=None, bad_states=None, restart_states=None):\n",
        "\n",
        "        self.obs_states = obstructed_states\n",
        "        self.bad_states = bad_states\n",
        "        if bad_states is not None:\n",
        "            self.num_bad_states = bad_states.shape[0]\n",
        "        else:\n",
        "            self.num_bad_states = 0\n",
        "        self.restart_states = restart_states\n",
        "        if restart_states is not None:\n",
        "            self.num_restart_states = restart_states.shape[0]\n",
        "        else:\n",
        "            self.num_restart_states = 0\n",
        "\n",
        "    def add_transition_probability(self, p_good_transition, bias):\n",
        "\n",
        "        self.p_good_trans = p_good_transition\n",
        "        self.bias = bias\n",
        "\n",
        "    def add_rewards(self, step_reward, goal_reward, bad_state_reward=None, restart_state_reward = None):\n",
        "\n",
        "        self.r_step = step_reward\n",
        "        self.r_goal = goal_reward\n",
        "        self.r_bad = bad_state_reward\n",
        "        self.r_restart = restart_state_reward\n",
        "\n",
        "\n",
        "    def create_gridworld(self):\n",
        "\n",
        "        self.num_actions = 4\n",
        "        self.num_states = self.num_cols * self.num_rows# +1\n",
        "        self.start_state_seq=(row_col_to_seq(self.start_state, self.num_cols))\n",
        "        self.goal_states_seq=(row_col_to_seq(self.goal_states, self.num_cols))\n",
        "\n",
        "        # rewards structure\n",
        "        self.R = self.r_step * np.ones((self.num_states, 1))\n",
        "        #self.R[self.num_states-1] = 0\n",
        "        self.R[self.goal_states_seq] = self.r_goal\n",
        "\n",
        "        for i in range(self.num_bad_states):\n",
        "            if self.r_bad is None:\n",
        "                raise Exception(\"Bad state specified but no reward is given\")\n",
        "            bad_state = row_col_to_seq(self.bad_states[i,:].reshape(1,-1), self.num_cols)\n",
        "            #print(\"bad states\", bad_state)\n",
        "            self.R[bad_state, :] = self.r_bad\n",
        "        for i in range(self.num_restart_states):\n",
        "            if self.r_restart is None:\n",
        "                raise Exception(\"Restart state specified but no reward is given\")\n",
        "            restart_state = row_col_to_seq(self.restart_states[i,:].reshape(1,-1), self.num_cols)\n",
        "            #print(\"restart_state\", restart_state)\n",
        "            self.R[restart_state, :] = self.r_restart\n",
        "\n",
        "        # probability model\n",
        "        if self.p_good_trans == None:\n",
        "            raise Exception(\"Must assign probability and bias terms via the add_transition_probability method.\")\n",
        "\n",
        "        self.P = np.zeros((self.num_states,self.num_states,self.num_actions))\n",
        "        for action in range(self.num_actions):\n",
        "            for state in range(self.num_states):\n",
        "\n",
        "\n",
        "                # check if the state is the goal state or an obstructed state - transition to end\n",
        "                row_col = seq_to_col_row(state, self.num_cols)\n",
        "                if self.obs_states is not None:\n",
        "                    end_states = np.vstack((self.obs_states, self.goal_states))\n",
        "                else:\n",
        "                    end_states = self.goal_states\n",
        "\n",
        "                if any(np.sum(np.abs(end_states-row_col), 1) == 0):\n",
        "                    self.P[state, state, action] = 1\n",
        "\n",
        "                # else consider stochastic effects of action\n",
        "                else:\n",
        "                    for dir in range(-1,2,1):\n",
        "\n",
        "                        direction = self._get_direction(action, dir)\n",
        "                        next_state = self._get_state(state, direction)\n",
        "                        if dir == 0:\n",
        "                            prob = self.p_good_trans\n",
        "                        elif dir == -1:\n",
        "                            prob = (1 - self.p_good_trans)*(self.bias)\n",
        "                        elif dir == 1:\n",
        "                            prob = (1 - self.p_good_trans)*(1-self.bias)\n",
        "\n",
        "                        self.P[state, next_state, action] += prob\n",
        "\n",
        "                # make restart states transition back to the start state with\n",
        "                # probability 1\n",
        "                if self.restart_states is not None:\n",
        "                    if any(np.sum(np.abs(self.restart_states-row_col),1)==0):\n",
        "                        next_state = row_col_to_seq(self.start_state, self.num_cols)\n",
        "                        self.P[state,:,:] = 0\n",
        "                        self.P[state,next_state,:] = 1\n",
        "        return self\n",
        "\n",
        "    def _get_direction(self, action, direction):\n",
        "\n",
        "        left = [2,3,1,0]\n",
        "        right = [3,2,0,1]\n",
        "        if direction == 0:\n",
        "            new_direction = action\n",
        "        elif direction == -1:\n",
        "            new_direction = left[action]\n",
        "        elif direction == 1:\n",
        "            new_direction = right[action]\n",
        "        else:\n",
        "            raise Exception(\"getDir received an unspecified case\")\n",
        "        return new_direction\n",
        "\n",
        "    def _get_state(self, state, direction):\n",
        "\n",
        "        row_change = [-1,1,0,0]\n",
        "        col_change = [0,0,-1,1]\n",
        "        row_col = seq_to_col_row(state, self.num_cols)\n",
        "        row_col[0,0] += row_change[direction]\n",
        "        row_col[0,1] += col_change[direction]\n",
        "\n",
        "        # check for invalid states\n",
        "        if self.obs_states is not None:\n",
        "            if (np.any(row_col < 0) or\n",
        "                np.any(row_col[:,0] > self.num_rows-1) or\n",
        "                np.any(row_col[:,1] > self.num_cols-1) or\n",
        "                np.any(np.sum(abs(self.obs_states - row_col), 1)==0)):\n",
        "                next_state = state\n",
        "            else:\n",
        "                next_state = row_col_to_seq(row_col, self.num_cols)[0]\n",
        "        else:\n",
        "            if (np.any(row_col < 0) or\n",
        "                np.any(row_col[:,0] > self.num_rows-1) or\n",
        "                np.any(row_col[:,1] > self.num_cols-1)):\n",
        "                next_state = state\n",
        "            else:\n",
        "                next_state = row_col_to_seq(row_col, self.num_cols)[0]\n",
        "\n",
        "        return next_state\n",
        "\n",
        "\n",
        "\n",
        "\n",
        "    '''\n",
        "    reset: resets the environment by randomly choosing a start and goal state\n",
        "    '''\n",
        "    def reset(self):\n",
        "\n",
        "        self.done = False\n",
        "        self.steps = 0\n",
        "\n",
        "\n",
        "        return int(self.start_state_seq)\n",
        "\n",
        "    def is_in_grid(self, coord_x, coord_y):\n",
        "        if coord_x < 0 or coord_y<0:\n",
        "            return False\n",
        "        if coord_x >= self.num_rows or coord_y >= self.num_cols:\n",
        "            return False\n",
        "\n",
        "        return True\n",
        "\n",
        "\n",
        "\n",
        "    def step(self,state,action):\n",
        "\n",
        "        self.steps += 1\n",
        "        p, r = 0, np.random.random()\n",
        "        for next_state in range(self.num_states):\n",
        "\n",
        "            p += self.P[state, next_state, action]\n",
        "\n",
        "            if r <= p:\n",
        "                break\n",
        "\n",
        "        if(self.wind and np.random.random() < 0.4):\n",
        "\n",
        "          arr = self.P[next_state, :, 3]\n",
        "          next_next = np.where(arr == np.amax(arr))\n",
        "          next_next = next_next[0][0]\n",
        "          if(next_next in self.goal_states_seq or self.steps == 100):\n",
        "            self.done = True\n",
        "          return next_next, self.R[next_next], self.done\n",
        "        else:\n",
        "          if(next_state in self.goal_states_seq or self.steps == 100):\n",
        "            self.done = True\n",
        "          return next_state, self.R[next_state], self.done\n",
        "\n",
        "\n",
        "\n",
        "    def render(self,state_,render_agent = False, ax = None):\n",
        "        grid = self.grid.copy()\n",
        "        for start in self.start_state:\n",
        "            grid[start[0], start[1]] = 1\n",
        "        for goal in self.goal_states:\n",
        "            grid[goal[0], goal[1]] = 2\n",
        "        # # Mark obstacles (if any)\n",
        "        if self.obs_states is not None:\n",
        "            for obs in self.obs_states:\n",
        "                grid[obs[0], obs[1]] = 3\n",
        "\n",
        "        # # Mark bad states (if any)\n",
        "        if self.bad_states is not None:\n",
        "            for bad in self.bad_states:\n",
        "                grid[bad[0], bad[1]] = 4\n",
        "\n",
        "        # # Mark restart state(s)\n",
        "        if self.restart_states is not None:\n",
        "            for restart in self.restart_states:\n",
        "                grid[restart[0], restart[1]] = 5\n",
        "        if render_agent:\n",
        "             grid[state_[0][0], state_[0][1]] = 6\n",
        "\n",
        "        plt.clf()\n",
        "        if not render_agent:\n",
        "            cmap = colors.ListedColormap(['#F5E5E1', '#F2A494', '#FF2D00', '#0004FF', '#00FF23'])\n",
        "        else:\n",
        "            cmap = colors.ListedColormap(['#F5E5E1', '#F2A494', '#FF2D00', '#0004FF', '#00FF23', '#F0FF00','#000000'])\n",
        "        if ax is None:\n",
        "            fig, ax = plt.subplots()\n",
        "\n",
        "\n",
        "\n",
        "        ax.pcolor(grid, cmap=cmap, edgecolors='k', linewidths=2)\n",
        "\n",
        "\n",
        "\n",
        "\n",
        "\n",
        "class GridWorldWindyEnv(GridWorld):\n",
        "    def __init__(self, grid_file, start_states = [(0,0)], goal_states = [(10,10)], goal_reward = 10, max_steps = 100,\n",
        "                    action_fail_prob = 0.0, seed = None, windy_probab = 0.7):\n",
        "        super(GridWorldWindyEnv, self).__init__(self, num_rows, num_cols, start_state, goal_states, wind = True,max_steps = 5000,action_fail_prob = 0.0,goal_reward = 10)\n",
        "        self.windy_probab = windy_probab\n",
        "\n",
        "    def step(self, action):\n",
        "        ans = super().step(action)\n",
        "        if not self.done and self.random_generator.rand() < self.windy_probab:\n",
        "            ans1 = super().step(RIGHT)\n",
        "            return ans1[0], ans[1]+ans1[1], ans1[2]\n",
        "        return ans"
      ]
    },
    {
      "cell_type": "markdown",
      "source": [
        "# INITIAL STATE OF GRID"
      ],
      "metadata": {
        "id": "h37-IUaHmCCF"
      }
    },
    {
      "cell_type": "code",
      "execution_count": 4,
      "metadata": {
        "id": "BqE09JUiL1B8"
      },
      "outputs": [],
      "source": [
        "# specify world parameters\n",
        "num_cols = 10\n",
        "num_rows = 10\n",
        "\n",
        "obstructions = np.array([[0,7],[1,1],[1,2],[1,3],[1,7],[2,1],[2,3],\n",
        "                         [2,7],[3,1],[3,3],[3,5],[4,3],[4,5],[4,7],\n",
        "                         [5,3],[5,7],[5,9],[6,3],[6,9],[7,1],[7,6],\n",
        "                         [7,7],[7,8],[7,9],[8,1],[8,5],[8,6],[9,1]])\n",
        "bad_states = np.array([[1,9],[4,2],[4,4],[7,5],[9,9]])\n",
        "restart_states = np.array([[3,7],[8,2]])\n",
        "start_state = np.array([[3,6]])\n",
        "goal_states = np.array([[0,9],[2,2],[8,7]])\n",
        "max_steps=5000\n",
        "goal_reward = 10\n",
        "wind=False\n",
        "\n",
        "# create model\n",
        "gw = GridWorld(num_rows=num_rows,\n",
        "               num_cols=num_cols,\n",
        "               start_state=start_state,\n",
        "               goal_states=goal_states, wind = wind)\n",
        "gw.add_obstructions(obstructed_states=obstructions,\n",
        "                    bad_states=bad_states,\n",
        "                    restart_states=restart_states)\n",
        "gw.add_rewards(step_reward=-1,\n",
        "               goal_reward=10,\n",
        "               bad_state_reward=-6,\n",
        "               restart_state_reward=-100)\n",
        "gw.add_transition_probability(p_good_transition=0.7,\n",
        "                              bias=0.5)\n",
        "\n",
        "gw.create_grid()\n",
        "\n",
        "env = gw.create_gridworld()\n",
        "\n"
      ]
    },
    {
      "cell_type": "code",
      "source": [
        "env.render(start_state,ax = plt)"
      ],
      "metadata": {
        "colab": {
          "base_uri": "https://localhost:8080/",
          "height": 435
        },
        "id": "PvIY7SEgLxSH",
        "outputId": "03cf891c-cf7e-4780-cfb7-dbdc1615bd6b"
      },
      "execution_count": 5,
      "outputs": [
        {
          "output_type": "display_data",
          "data": {
            "text/plain": [
              "<Figure size 640x480 with 1 Axes>"
            ],
            "image/png": "[encoded data removed]"
          },
          "metadata": {}
        }
      ]
    },
    {
      "cell_type": "markdown",
      "source": [
        "# GENERALISED ENVIRONMENTS FOR EXPERIMENTS:"
      ],
      "metadata": {
        "id": "e5utd9Nill-i"
      }
    },
    {
      "cell_type": "code",
      "source": [
        "def generate_env(num_rows:int, num_cols:int, obstructions:np.ndarray, bad_states:np.ndarray, restart_states:np.ndarray, \\\n",
        "                 goal_states:np.ndarray, start_state:np.ndarray, step_reward:int, goal_reward:int, bad_state_reward:int, \\\n",
        "                 restart_state_reward:int, wind:bool = False, p_good_transition:float = 0.7) -> GridWorld:\n",
        "\n",
        "    gw = GridWorld(num_rows=num_rows,num_cols=num_cols,start_state=start_state,goal_states=goal_states, wind=wind)\n",
        "    gw.add_obstructions(obstructed_states=obstructions,\n",
        "                    bad_states=bad_states,\n",
        "                    restart_states=restart_states)\n",
        "    gw.add_rewards(step_reward=step_reward,\n",
        "                   goal_reward=goal_reward,\n",
        "                   bad_state_reward=bad_state_reward,\n",
        "                   restart_state_reward=restart_state_reward)\n",
        "    gw.add_transition_probability(p_good_transition = p_good_transition, bias=0.5)\n",
        "    gw.create_grid()\n",
        "    env = gw.create_gridworld()\n",
        "    return env\n"
      ],
      "metadata": {
        "id": "PDIJMOKLLyEu"
      },
      "execution_count": 7,
      "outputs": []
    },
    {
      "cell_type": "code",
      "source": [
        "# specify world parameters\n",
        "num_cols = 10\n",
        "num_rows = 10\n",
        "DOWN = 1\n",
        "UP = 0\n",
        "LEFT = 2\n",
        "RIGHT = 3\n",
        "actions = [UP,DOWN, LEFT, RIGHT]\n",
        "obstructions = np.array([[0,7],[1,1],[1,2],[1,3],[1,7],[2,1],[2,3],\n",
        "                         [2,7],[3,1],[3,3],[3,5],[4,3],[4,5],[4,7],\n",
        "                         [5,3],[5,7],[5,9],[6,3],[6,9],[7,1],[7,6],\n",
        "                         [7,7],[7,8],[7,9],[8,1],[8,5],[8,6],[9,1]])\n",
        "bad_states = np.array([[1,9],[4,2],[4,4],[7,5],[9,9]])\n",
        "restart_states = np.array([[3,7],[8,2]])\n",
        "start_state = np.array([[3,6],[0,4]])\n",
        "goal_states = np.array([[0,9],[2,2],[8,7]])\n",
        "max_steps=5000\n",
        "goal_reward = 10\n",
        "p_good_transition = [1.0, 0.7]\n",
        "# Specifies whether there is wind in the GridWorld environment\n",
        "wind=[True, False]\n",
        "# dictionary to store the specified 8 different GridWorld instances\n",
        "environments = {}\n",
        "# generate the specified 8 different GridWorld instances\n",
        "for w in wind:\n",
        "    for p in p_good_transition:\n",
        "        if(w==True and p==0.7):\n",
        "          continue\n",
        "        for s in start_state:\n",
        "            s=np.array([s])\n",
        "            environments[f'wind={w}, p_good_transition={p}, start_state={s}'] = generate_env(num_rows=num_rows, num_cols=num_cols, obstructions=obstructions,\n",
        "                                                                                bad_states=bad_states,restart_states=restart_states, goal_states=goal_states,\n",
        "                                                                              start_state=s, step_reward=-1,goal_reward=+10, bad_state_reward=-6, restart_state_reward=-100, wind=w, p_good_transition=p)\n"
      ],
      "metadata": {
        "id": "eYG_eNNdM6xi"
      },
      "execution_count": 8,
      "outputs": []
    },
    {
      "cell_type": "code",
      "source": [
        "(environments)"
      ],
      "metadata": {
        "colab": {
          "base_uri": "https://localhost:8080/"
        },
        "id": "mzMjdzHvNvwq",
        "outputId": "11784d03-4c01-43be-9c85-c2bc96fa5a04"
      },
      "execution_count": 9,
      "outputs": [
        {
          "output_type": "execute_result",
          "data": {
            "text/plain": [
              "{'wind=True, p_good_transition=1.0, start_state=[[3 6]]': <__main__.GridWorld at 0x7e89841c7df0>,\n",
              " 'wind=True, p_good_transition=1.0, start_state=[[0 4]]': <__main__.GridWorld at 0x7e89841c7160>,\n",
              " 'wind=False, p_good_transition=1.0, start_state=[[3 6]]': <__main__.GridWorld at 0x7e89841c7130>,\n",
              " 'wind=False, p_good_transition=1.0, start_state=[[0 4]]': <__main__.GridWorld at 0x7e89841c7190>,\n",
              " 'wind=False, p_good_transition=0.7, start_state=[[3 6]]': <__main__.GridWorld at 0x7e89841c41c0>,\n",
              " 'wind=False, p_good_transition=0.7, start_state=[[0 4]]': <__main__.GridWorld at 0x7e89841c52a0>}"
            ]
          },
          "metadata": {},
          "execution_count": 9
        }
      ]
    },
    {
      "cell_type": "code",
      "execution_count": 10,
      "metadata": {
        "colab": {
          "base_uri": "https://localhost:8080/"
        },
        "id": "0UdRce8oMZNb",
        "outputId": "b7100133-3109-4da0-8d4e-a7d1343a82f5"
      },
      "outputs": [
        {
          "output_type": "stream",
          "name": "stdout",
          "text": [
            "Number of actions 4\n",
            "Number of states 100\n",
            "start state [36]\n",
            "goal state(s) [ 9 22 87]\n"
          ]
        }
      ],
      "source": [
        "print(\"Number of actions\", env.num_actions) #0 -> UP, 1-> DOWN, 2 -> LEFT, 3-> RIGHT\n",
        "print(\"Number of states\", env.num_states)\n",
        "print(\"start state\", env.start_state_seq)\n",
        "print(\"goal state(s)\", env.goal_states_seq)"
      ]
    },
    {
      "cell_type": "code",
      "execution_count": 11,
      "metadata": {
        "colab": {
          "base_uri": "https://localhost:8080/"
        },
        "id": "9hacJEN8R_Bb",
        "outputId": "cf78318c-d8f6-4b22-a142-ef3458c9cb0f"
      },
      "outputs": [
        {
          "output_type": "execute_result",
          "data": {
            "text/plain": [
              "array([0.85, 0.15, 0.  , 0.  , 0.  , 0.  , 0.  , 0.  , 0.  , 0.  , 0.  ,\n",
              "       0.  , 0.  , 0.  , 0.  , 0.  , 0.  , 0.  , 0.  , 0.  , 0.  , 0.  ,\n",
              "       0.  , 0.  , 0.  , 0.  , 0.  , 0.  , 0.  , 0.  , 0.  , 0.  , 0.  ,\n",
              "       0.  , 0.  , 0.  , 0.  , 0.  , 0.  , 0.  , 0.  , 0.  , 0.  , 0.  ,\n",
              "       0.  , 0.  , 0.  , 0.  , 0.  , 0.  , 0.  , 0.  , 0.  , 0.  , 0.  ,\n",
              "       0.  , 0.  , 0.  , 0.  , 0.  , 0.  , 0.  , 0.  , 0.  , 0.  , 0.  ,\n",
              "       0.  , 0.  , 0.  , 0.  , 0.  , 0.  , 0.  , 0.  , 0.  , 0.  , 0.  ,\n",
              "       0.  , 0.  , 0.  , 0.  , 0.  , 0.  , 0.  , 0.  , 0.  , 0.  , 0.  ,\n",
              "       0.  , 0.  , 0.  , 0.  , 0.  , 0.  , 0.  , 0.  , 0.  , 0.  , 0.  ,\n",
              "       0.  ])"
            ]
          },
          "metadata": {},
          "execution_count": 11
        }
      ],
      "source": [
        "env.P[0,:,0]"
      ]
    },
    {
      "cell_type": "markdown",
      "source": [
        "# POLICY"
      ],
      "metadata": {
        "id": "S39_dpYdj2q5"
      }
    },
    {
      "cell_type": "code",
      "source": [
        "from scipy.special import softmax\n",
        "\n",
        "seed = 42\n",
        "rg = np.random.RandomState(seed)\n",
        "\n",
        "# Epsilon greedy\n",
        "\n",
        "def choose_action_epsilon(Q, state_, epsilon, rg=rg):\n",
        "\n",
        "    if not Q[state_[0][0]][state_[0][1]].any():                 # TODO: eps greedy condition\n",
        "        return rg.randint(0, len(Q[state_[0][0]][state_[0][1]]))         # TODO: return random action\n",
        "\n",
        "    elif rg.rand() < epsilon:                # With probability epsilon, take a random action\n",
        "        return rg.randint(0, len(Q[state_[0][0]][state_[0][1]]))                # Random action\n",
        "\n",
        "    else:\n",
        "        return np.argmax(Q[state_[0][0]][state_[0][1]])              # TODO: return best action\n",
        "\n",
        "\n",
        "\n",
        "# Softmax\n",
        "\n",
        "def choose_action_softmax(Q, state_,tau, rg=rg):\n",
        "    action_values = Q[state_[0][0]][state_[0][1]]\n",
        "    max_value = action_values.max()\n",
        "    exp_values = [np.exp((v-max_value) / tau) for v in action_values]\n",
        "    normalizer = np.sum(exp_values)\n",
        "    prob = [v/normalizer for v in exp_values]\n",
        "    action = np.random.choice(actions, p=prob)\n",
        "    return action # TODO: return random action with selection probability"
      ],
      "metadata": {
        "id": "wBfeA6RYYjcE"
      },
      "execution_count": 12,
      "outputs": []
    },
    {
      "cell_type": "markdown",
      "source": [
        "# SARSA :"
      ],
      "metadata": {
        "id": "pV1k9Bq2juW2"
      }
    },
    {
      "cell_type": "code",
      "source": [
        "from IPython.display import clear_output\n",
        "from tqdm import tqdm\n",
        "\n",
        "episodes=5000\n",
        "\n",
        "print_freq = 100\n",
        "\n",
        "def sarsa(env, Q, gamma = 0.1, plot_heat = False,choose_action= 0, epsilon= 0.1,tau = 1, alpha=0.1 , experiment_number=1):\n",
        "    visits = np.zeros((10, 10))\n",
        "    episode_rewards = np.zeros(episodes)\n",
        "    steps_to_completion = np.zeros(episodes)\n",
        "    if choose_action == 0:\n",
        "        method1 = \"Epsilon-Greedy\"\n",
        "    else:\n",
        "        method2 = \"Softmax\"\n",
        "\n",
        "    for ep in tqdm(range(episodes)):\n",
        "        tot_reward, steps = 0, 0\n",
        "\n",
        "        # Reset environment\n",
        "        state = env.reset()\n",
        "        state_ = seq_to_col_row(state, num_cols)\n",
        "        visits[state_[0][0]][state_[0][1]] += 1\n",
        "        if choose_action == 0:\n",
        "          action = choose_action_epsilon(Q, state_, epsilon)\n",
        "        else:\n",
        "          action = choose_action_softmax(Q, state_, tau)\n",
        "        done = False\n",
        "        while not done:\n",
        "            state_ = seq_to_col_row(state, num_cols)\n",
        "            state_next, reward, done = env.step(state,action)\n",
        "            state_next_ = seq_to_col_row(state_next, num_cols)\n",
        "\n",
        "\n",
        "            if choose_action == 0:\n",
        "              action_next = choose_action_epsilon(Q, state_next_, epsilon)\n",
        "            else:\n",
        "              action_next = choose_action_softmax(Q, state_next_, tau)\n",
        "\n",
        "            visits[state_next_[0][0]][state_next_[0][1]] += 1\n",
        "\n",
        "            # TODO: update equation\n",
        "\n",
        "            Q[state_[0][0]][state_[0][1]][action] += alpha * (reward + gamma * Q[state_next_[0][0]][state_next_[0][1]][action_next] - Q[state_[0][0]][state_[0][1]][action])\n",
        "\n",
        "            tot_reward += reward\n",
        "            steps += 1\n",
        "\n",
        "            state, action = state_next, action_next\n",
        "\n",
        "        episode_rewards[ep] = tot_reward\n",
        "        steps_to_completion[ep] = steps\n",
        "\n",
        "        if (ep+1)%print_freq == 0 and plot_heat:\n",
        "\n",
        "            message = f\"SARSA ( Experiment: {experiment_number} )\\n\"\n",
        "            message += f\" Wind: {env.wind}\\n\"\n",
        "            message += f\" probability: {env.p_good_trans}\\n\"\n",
        "            message += f\" Start State: {env.start_state}\\n\"\n",
        "            if choose_action == 0:\n",
        "                message += f\" For Method : {method1}= {epsilon}\\n\"\n",
        "            else:\n",
        "                message += f\" For Method : {method2}= {tau}\\n\"\n",
        "            message += f\" For Alpha := {alpha}\\n\"\n",
        "            message += f\" For Gamma := {gamma}\\n\"\n",
        "            message += \"Episode %d: Reward: %f, Steps: %.2f, Qmax: %.2f, Qmin: %.2f\"%(ep+1, np.mean(episode_rewards[ep-print_freq+1:ep]),\n",
        "                                                                           np.mean(steps_to_completion[ep-print_freq+1:ep]),\n",
        "                                                                           Q.max(), Q.min())\n",
        "\n",
        "\n",
        "\n",
        "    return Q, episode_rewards, steps_to_completion,visits"
      ],
      "metadata": {
        "id": "4H4xoedqYvvq"
      },
      "execution_count": 13,
      "outputs": []
    },
    {
      "cell_type": "code",
      "source": [
        "environments"
      ],
      "metadata": {
        "colab": {
          "base_uri": "https://localhost:8080/"
        },
        "id": "5xeh3rUklY42",
        "outputId": "2a5fbd05-4d22-4e56-cc61-42c70dcadcaf"
      },
      "execution_count": 14,
      "outputs": [
        {
          "output_type": "execute_result",
          "data": {
            "text/plain": [
              "{'wind=True, p_good_transition=1.0, start_state=[[3 6]]': <__main__.GridWorld at 0x7e89841c7df0>,\n",
              " 'wind=True, p_good_transition=1.0, start_state=[[0 4]]': <__main__.GridWorld at 0x7e89841c7160>,\n",
              " 'wind=False, p_good_transition=1.0, start_state=[[3 6]]': <__main__.GridWorld at 0x7e89841c7130>,\n",
              " 'wind=False, p_good_transition=1.0, start_state=[[0 4]]': <__main__.GridWorld at 0x7e89841c7190>,\n",
              " 'wind=False, p_good_transition=0.7, start_state=[[3 6]]': <__main__.GridWorld at 0x7e89841c41c0>,\n",
              " 'wind=False, p_good_transition=0.7, start_state=[[0 4]]': <__main__.GridWorld at 0x7e89841c52a0>}"
            ]
          },
          "metadata": {},
          "execution_count": 14
        }
      ]
    },
    {
      "cell_type": "code",
      "source": [
        "# This cell is for visulize hyperparameter values using graph\n",
        "\n",
        "# import matplotlib.pyplot as plt\n",
        "# import numpy as np\n",
        "\n",
        "# # Define hyperparameters\n",
        "# alpha_values = [0.01, 0.07, 0.1, 0.3]\n",
        "# gamma_values = [0.5, 0.9, 0.99]\n",
        "# tau_values = [0.001, 0.01,0.5]\n",
        "# epsilon=0.1\n",
        "\n",
        "# # Initialize variables to track maximum reward and corresponding hyperparameters\n",
        "# max_reward = float('-200')\n",
        "# best_alpha, best_gamma, best_tau = None, None, None\n",
        "\n",
        "# # Create grid of plots\n",
        "# fig, axes = plt.subplots(len(alpha_values), len(gamma_values), figsize=(15, 15), sharex=True, sharey=True)\n",
        "\n",
        "# # Loop over hyperparameters and create plots\n",
        "# for i, alpha in enumerate(alpha_values):\n",
        "#     for j, gamma in enumerate(gamma_values):\n",
        "#         # Dummy data for plotting (replace with your actual data)\n",
        "#         rewards_all_experiments = []\n",
        "#         steps_all_experiments = []\n",
        "#         for tau in tau_values:\n",
        "#             # Run Q-learning and store rewards and steps\n",
        "\n",
        "\n",
        "#             f=0 # this is used for choosing grid environment from environments list values from 0 to 5: 0 means experiment 1\n",
        "\n",
        "#             f2=0 # Choose action 0 for epsilon greedy and 1 for softmax\n",
        "#             Q, rewards, steps ,visits= sarsa(list(environments.values())[f], Q, plot_heat=False, choose_action=f2, epsilon=epsilon, tau=tau, alpha=alpha, gamma=gamma, experiment_number=i+1)\n",
        "#             rewards_all_experiments.append((rewards))\n",
        "#             steps_all_experiments.append(steps)\n",
        "\n",
        "#         # Plot rewards for all experiments\n",
        "#         for k in range(len(tau_values)):\n",
        "#             axes[i, j].plot(rewards_all_experiments[k], label=f'tau={tau_values[k]}')\n",
        "\n",
        "#         # Set title\n",
        "#         axes[i, j].set_title(f'Alpha={alpha}, Gamma={gamma}')\n",
        "\n",
        "#         # Set labels\n",
        "#         axes[i, j].set_xlabel('Episodes')\n",
        "#         axes[i, j].set_ylabel('Rewards')\n",
        "\n",
        "#         # Add legend\n",
        "#         axes[i, j].legend()\n",
        "\n",
        "\n",
        "# # Adjust layout\n",
        "# plt.tight_layout()\n",
        "\n",
        "# # Show plot\n",
        "# plt.show()\n",
        "\n"
      ],
      "metadata": {
        "id": "v1_oNrzdFbAP"
      },
      "execution_count": 15,
      "outputs": []
    },
    {
      "cell_type": "code",
      "source": [
        "environments"
      ],
      "metadata": {
        "colab": {
          "base_uri": "https://localhost:8080/"
        },
        "id": "wAQIsayYrp7T",
        "outputId": "3e22a49e-2f81-4b26-c4c4-d284c997733c"
      },
      "execution_count": 30,
      "outputs": [
        {
          "output_type": "execute_result",
          "data": {
            "text/plain": [
              "{'wind=True, p_good_transition=1.0, start_state=[[3 6]]': <__main__.GridWorld at 0x7e89841c7df0>,\n",
              " 'wind=True, p_good_transition=1.0, start_state=[[0 4]]': <__main__.GridWorld at 0x7e89841c7160>,\n",
              " 'wind=False, p_good_transition=1.0, start_state=[[3 6]]': <__main__.GridWorld at 0x7e89841c7130>,\n",
              " 'wind=False, p_good_transition=1.0, start_state=[[0 4]]': <__main__.GridWorld at 0x7e89841c7190>,\n",
              " 'wind=False, p_good_transition=0.7, start_state=[[3 6]]': <__main__.GridWorld at 0x7e89841c41c0>,\n",
              " 'wind=False, p_good_transition=0.7, start_state=[[0 4]]': <__main__.GridWorld at 0x7e89841c52a0>}"
            ]
          },
          "metadata": {},
          "execution_count": 30
        }
      ]
    },
    {
      "cell_type": "code",
      "source": [
        "# Code for SARSA manual checking parameters and ploting heatmaps\n",
        "\n",
        "# def plot_heatmap(data, mean_visits = 0, experiment_num = 0):\n",
        "\n",
        "#         plt.title(f\" Avg Number Of Visits for Experiment %d is :%.2f \"%((experiment_num) , (mean_visits)))\n",
        "#         plt.imshow(np.flipud(data), cmap = 'hot', interpolation='nearest')\n",
        "#         plt.colorbar()\n",
        "#         plt.show()\n",
        "# def plot_Q(Q, message = \"Q plot\"):\n",
        "\n",
        "#     plt.figure(figsize=(10,10))\n",
        "#     plt.title(message)\n",
        "#     plt.pcolor(Q.max(-1), edgecolors='k', linewidths=2)\n",
        "#     plt.colorbar()\n",
        "#     def x_direct(a):\n",
        "#         if a in [UP, DOWN]:\n",
        "#             return 0\n",
        "#         return 1 if a == RIGHT else -1\n",
        "#     def y_direct(a):\n",
        "#         if a in [RIGHT, LEFT]:\n",
        "#             return 0\n",
        "#         return 1 if a == DOWN else -1\n",
        "#     policy = Q.argmax(-1)\n",
        "#     policyx = np.vectorize(x_direct)(policy)\n",
        "#     policyy = np.vectorize(y_direct)(policy)\n",
        "#     idx = np.indices(policy.shape)\n",
        "#     plt.quiver(idx[1].ravel()+0.5, idx[0].ravel()+0.5, policyx.ravel(), policyy.ravel(), pivot=\"middle\", color='red')\n",
        "#     plt.show()\n",
        "# Q = np.zeros((10, 10, 4))\n",
        "\n",
        "\n",
        "\n",
        "# #Note\n",
        "\n",
        "# i=0 # choose environment from above list 0 based index\n",
        "\n",
        "# j=1 # choose epsilon greedy or softmax : take j=0 for epsilon greedy and j=1 for softmax\n",
        "\n",
        "# epsilon=0.1\n",
        "# tau=0.1\n",
        "# alpha=0.4\n",
        "# gamma=0.99\n",
        "\n",
        "# num_expts = 5\n",
        "# reward_avgs, steps_avgs = np.zeros(5000), np.zeros(5000)\n",
        "# Q1=np.zeros((10,10,4))\n",
        "# V1=np.zeros((10,10))\n",
        "\n",
        "# for i in range(num_expts):\n",
        "#     print(\"Experiment: %d\"%(i+1))\n",
        "#     Q = np.zeros((10, 10, 4))\n",
        "#     rg = np.random.RandomState(i)\n",
        "\n",
        "\n",
        "#     Q, rewards, steps,visits = sarsa(list(environments.values())[i], Q, plot_heat=True, choose_action= j, epsilon= epsilon,tau = tau, alpha=alpha , gamma=gamma, experiment_number= i + 1)\n",
        "#     #addind for 5 run\n",
        "#     reward_avgs = reward_avgs + rewards\n",
        "#     steps_avgs = steps_avgs + steps\n",
        "#     V1=V1+ visits\n",
        "#     Q1= Q1+ Q\n",
        "# # averaging over 5 runs\n",
        "# reward_avgs = reward_avgs/num_expts\n",
        "# steps_avgs = steps_avgs/num_expts\n",
        "# V1=V1/5\n",
        "# Q1=Q1/5\n",
        "\n",
        "\n",
        "\n",
        "# plot_Q(Q1)\n",
        "# plot_heatmap(visits,np.mean(V1),i+1)"
      ],
      "metadata": {
        "id": "-Met2ifFreWh"
      },
      "execution_count": null,
      "outputs": []
    },
    {
      "cell_type": "markdown",
      "source": [
        "# **Q - Learning** :"
      ],
      "metadata": {
        "id": "vfq6nvv7BWcT"
      }
    },
    {
      "cell_type": "code",
      "source": [
        "from IPython.display import clear_output\n",
        "from tqdm import tqdm\n",
        "\n",
        "\n",
        "\n",
        "print_freq = 100\n",
        "\n",
        "def qlearning(env, Q, gamma = 0.1, plot_heat = False,choose_action= 0, epsilon= 0.1,tau = 1, alpha=0.1 , experiment_number=1):\n",
        "    visits = np.zeros((10, 10))\n",
        "    if choose_action == 0:\n",
        "      method1 = \"Epsilon-Greedy\"\n",
        "    else:\n",
        "      method2 = \"Softmax\"\n",
        "    episode_rewards = np.zeros(episodes)\n",
        "    steps_to_completion = np.zeros(episodes)\n",
        "    # if plot_heat:\n",
        "    #     clear_output(wait=True)\n",
        "    #     plot_Q(Q)\n",
        "\n",
        "    for ep in tqdm(range(episodes)):\n",
        "        tot_reward, steps = 0, 0\n",
        "\n",
        "        # Reset environment\n",
        "        state = env.reset()\n",
        "        state_ = seq_to_col_row(state, num_cols)\n",
        "        visits[state_[0][0]][state_[0][1]] += 1\n",
        "        if choose_action == 0:\n",
        "          action = choose_action_epsilon(Q, state_, epsilon)\n",
        "        else:\n",
        "          action = choose_action_softmax(Q, state_, tau)\n",
        "        done = False\n",
        "        while not done:\n",
        "            state_ = seq_to_col_row(state, num_cols)\n",
        "            state_next, reward, done = env.step(state,action)\n",
        "            state_next_ = seq_to_col_row(state_next, num_cols)\n",
        "\n",
        "\n",
        "            if choose_action == 0:\n",
        "              action_next = choose_action_epsilon(Q, state_next_, epsilon)\n",
        "            else:\n",
        "              action_next = choose_action_softmax(Q, state_next_, tau)\n",
        "\n",
        "            visits[state_next_[0][0]][state_next_[0][1]] += 1\n",
        "\n",
        "            # TODO: update equation\n",
        "\n",
        "            Q[state_[0][0]][state_[0][1]][action] += alpha * (reward + gamma * Q[state_next_[0][0]][state_next_[0][1]][action_next] - Q[state_[0][0]][state_[0][1]][action])\n",
        "\n",
        "            # Q-learning update equation\n",
        "\n",
        "            max_next_q_value = np.max(Q[state_next_[0][0]][state_next_[0][1]])\n",
        "\n",
        "            Q[state_[0][0]][state_[0][1]][action] += alpha * (reward + gamma * max_next_q_value - Q[state_[0][0]][state_[0][1]][action])\n",
        "\n",
        "            tot_reward += reward\n",
        "            steps += 1\n",
        "\n",
        "            state, action = state_next, action_next\n",
        "\n",
        "        episode_rewards[ep] = tot_reward\n",
        "        steps_to_completion[ep] = steps\n",
        "\n",
        "        if (ep+1)%print_freq == 0 and plot_heat:\n",
        "            message = f\"Q-Learning ( Experiment: {experiment_number} )\\n\"\n",
        "            message += f\" Wind: {env.wind}\\n\"\n",
        "            message += f\" probability: {env.p_good_trans}\\n\"\n",
        "            message += f\" Start State: {env.start_state}\\n\"\n",
        "            if choose_action == 0:\n",
        "                message += f\" For Method : {method1}= {epsilon}\\n\"\n",
        "            else:\n",
        "                message += f\" For Method : {method2}= {tau}\\n\"\n",
        "            message += f\" For Alpha := {alpha}\\n\"\n",
        "            message += f\" For Gamma := {gamma}\\n\"\n",
        "            message += \"Episode %d: Reward: %f, Steps: %.2f, Qmax: %.2f, Qmin: %.2f\"%(ep+1, np.mean(episode_rewards[ep-print_freq+1:ep]),\n",
        "                                                                           np.mean(steps_to_completion[ep-print_freq+1:ep]),\n",
        "                                                                           Q.max(), Q.min())\n",
        "\n",
        "\n",
        "\n",
        "\n",
        "    return Q, episode_rewards, steps_to_completion,visits"
      ],
      "metadata": {
        "id": "YC-RyBClBjy0"
      },
      "execution_count": 16,
      "outputs": []
    },
    {
      "cell_type": "code",
      "source": [
        "Q, rewards, steps,visits = sarsa(env, Q, gamma = 0.9, plot_heat=True, choose_action= 1) # choose action 0 for e greedy and 1 for softmax"
      ],
      "metadata": {
        "id": "tVwGr3OZYziQ",
        "colab": {
          "base_uri": "https://localhost:8080/"
        },
        "outputId": "b3408a0d-88a5-43d9-8ad9-457d9b53344b"
      },
      "execution_count": 189,
      "outputs": [
        {
          "output_type": "stream",
          "name": "stderr",
          "text": [
            "  0%|          | 0/5000 [00:00<?, ?it/s]<ipython-input-84-9fb1bda1c7fb>:227: DeprecationWarning: Conversion of an array with ndim > 0 to a scalar is deprecated, and will error in future. Ensure you extract a single element from your array before performing this operation. (Deprecated NumPy 1.25.)\n",
            "  return int(self.start_state_seq)\n",
            "<ipython-input-143-f9c81fbddd80>:44: DeprecationWarning: Conversion of an array with ndim > 0 to a scalar is deprecated, and will error in future. Ensure you extract a single element from your array before performing this operation. (Deprecated NumPy 1.25.)\n",
            "  Q[state_[0][0]][state_[0][1]][action] += alpha * (reward + gamma * Q[state_next_[0][0]][state_next_[0][1]][action_next] - Q[state_[0][0]][state_[0][1]][action])\n",
            "<ipython-input-143-f9c81fbddd80>:51: DeprecationWarning: Conversion of an array with ndim > 0 to a scalar is deprecated, and will error in future. Ensure you extract a single element from your array before performing this operation. (Deprecated NumPy 1.25.)\n",
            "  episode_rewards[ep] = tot_reward\n",
            "100%|██████████| 5000/5000 [00:29<00:00, 167.02it/s]\n"
          ]
        }
      ]
    },
    {
      "cell_type": "markdown",
      "source": [
        "# AVERAGE REWARDS AND STEPS PLOTS"
      ],
      "metadata": {
        "id": "-NSwd86ykMKp"
      }
    },
    {
      "cell_type": "code",
      "source": [
        "environments"
      ],
      "metadata": {
        "colab": {
          "base_uri": "https://localhost:8080/"
        },
        "id": "8CsXW_h5xsre",
        "outputId": "3748cb6d-dcfb-4710-9181-d733aafa2ec5"
      },
      "execution_count": 17,
      "outputs": [
        {
          "output_type": "execute_result",
          "data": {
            "text/plain": [
              "{'wind=True, p_good_transition=1.0, start_state=[[3 6]]': <__main__.GridWorld at 0x7e89841c7df0>,\n",
              " 'wind=True, p_good_transition=1.0, start_state=[[0 4]]': <__main__.GridWorld at 0x7e89841c7160>,\n",
              " 'wind=False, p_good_transition=1.0, start_state=[[3 6]]': <__main__.GridWorld at 0x7e89841c7130>,\n",
              " 'wind=False, p_good_transition=1.0, start_state=[[0 4]]': <__main__.GridWorld at 0x7e89841c7190>,\n",
              " 'wind=False, p_good_transition=0.7, start_state=[[3 6]]': <__main__.GridWorld at 0x7e89841c41c0>,\n",
              " 'wind=False, p_good_transition=0.7, start_state=[[0 4]]': <__main__.GridWorld at 0x7e89841c52a0>}"
            ]
          },
          "metadata": {},
          "execution_count": 17
        }
      ]
    },
    {
      "cell_type": "code",
      "source": [
        "#NOTE :\n",
        "\n",
        "f1=0 # choose Experiment number use 0-based index from above environments list\n",
        "\n",
        "f2=0 # for chosing sarsa or q-learning based on result got from both algorithm using hyperparameters\n",
        "\n",
        "epsilon=0.1\n",
        "\n",
        "# Assigning best hyperparameter values based on graph provided in report\n",
        "\n",
        "if(f1==0): # f1 is Experiment number 0 based index so f1 ranges from 0 to 5\n",
        "  choose_action=1\n",
        "  f2=1\n",
        "  tau=0.1\n",
        "  alpha=0.4\n",
        "  gamma=0.99\n",
        "elif(f1==1):\n",
        "  choose_action=1\n",
        "  f2=0\n",
        "  tau=0.01\n",
        "  alpha=0.1\n",
        "  gamma=0.99\n",
        "elif(f1==2):\n",
        "  choose_action=1\n",
        "  f2=1\n",
        "  tau=0.1\n",
        "  alpha=0.2\n",
        "  gamma=0.99\n",
        "elif(f1==3):\n",
        "  choose_action=1\n",
        "  f2=0\n",
        "  tau=0.1\n",
        "  alpha=0.2\n",
        "  gamma=0.99\n",
        "elif(f1==4):\n",
        "  choose_action=1\n",
        "  f2=0\n",
        "  tau=0.4\n",
        "  alpha=0.2\n",
        "  gamma=0.99\n",
        "elif(f1==5):\n",
        "  choose_action=1\n",
        "  f2=0\n",
        "  tau=0.01\n",
        "  alpha=0.1\n",
        "  gamma=0.99\n",
        "else:\n",
        "  choose_action=1\n",
        "  f2=0\n",
        "  tau=0.01\n",
        "  alpha=0.1\n",
        "  gamma=0.99\n",
        "  epsilon=0.1\n",
        "\n",
        "\n",
        "num_expts = 5 # for averaging over 5 runs\n",
        "reward_avgs, steps_avgs = np.zeros(5000), np.zeros(5000)\n",
        "\n",
        "for i in range(num_expts):\n",
        "    print(\"Experiment: %d\"%(f1+1))\n",
        "    Q = np.zeros((10, 10, 4))\n",
        "    rg = np.random.RandomState(i)\n",
        "\n",
        "    if(f2==0): # f2 used for chosing sarsa or q-learning based on result got from both algorithm using hyperparameters\n",
        "      Q, rewards, steps,visits = sarsa(list(environments.values())[f1], Q, plot_heat=False, choose_action=choose_action, epsilon= epsilon,tau = tau, alpha=alpha , gamma=gamma, experiment_number= i + 1)\n",
        "    elif(f2==1):\n",
        "      Q, rewards, steps,visits = qlearning(list(environments.values())[f1], Q, plot_heat=False, choose_action=choose_action, epsilon= epsilon,tau = tau, alpha=alpha , gamma=gamma, experiment_number= i + 1)\n",
        "\n",
        "    # adding rewards for 5 runs\n",
        "    reward_avgs = reward_avgs + rewards\n",
        "    steps_avgs = steps_avgs + steps\n",
        "\n",
        "# averaging over 5 runs\n",
        "reward_avgs = reward_avgs/num_expts\n",
        "steps_avgs = steps_avgs/num_expts"
      ],
      "metadata": {
        "colab": {
          "base_uri": "https://localhost:8080/"
        },
        "id": "WZkJqbKPwhQi",
        "outputId": "9dcb6a2e-447d-4001-9c19-6a1fbf7a11c7"
      },
      "execution_count": 18,
      "outputs": [
        {
          "output_type": "stream",
          "name": "stdout",
          "text": [
            "Experiment: 1\n"
          ]
        },
        {
          "output_type": "stream",
          "name": "stderr",
          "text": [
            "  0%|          | 0/5000 [00:00<?, ?it/s]<ipython-input-3-9fb1bda1c7fb>:227: DeprecationWarning: Conversion of an array with ndim > 0 to a scalar is deprecated, and will error in future. Ensure you extract a single element from your array before performing this operation. (Deprecated NumPy 1.25.)\n",
            "  return int(self.start_state_seq)\n",
            "<ipython-input-16-5b498b0eb2e1>:47: DeprecationWarning: Conversion of an array with ndim > 0 to a scalar is deprecated, and will error in future. Ensure you extract a single element from your array before performing this operation. (Deprecated NumPy 1.25.)\n",
            "  Q[state_[0][0]][state_[0][1]][action] += alpha * (reward + gamma * Q[state_next_[0][0]][state_next_[0][1]][action_next] - Q[state_[0][0]][state_[0][1]][action])\n",
            "<ipython-input-16-5b498b0eb2e1>:53: DeprecationWarning: Conversion of an array with ndim > 0 to a scalar is deprecated, and will error in future. Ensure you extract a single element from your array before performing this operation. (Deprecated NumPy 1.25.)\n",
            "  Q[state_[0][0]][state_[0][1]][action] += alpha * (reward + gamma * max_next_q_value - Q[state_[0][0]][state_[0][1]][action])\n",
            "<ipython-input-16-5b498b0eb2e1>:60: DeprecationWarning: Conversion of an array with ndim > 0 to a scalar is deprecated, and will error in future. Ensure you extract a single element from your array before performing this operation. (Deprecated NumPy 1.25.)\n",
            "  episode_rewards[ep] = tot_reward\n",
            "100%|██████████| 5000/5000 [00:09<00:00, 511.12it/s]\n"
          ]
        },
        {
          "output_type": "stream",
          "name": "stdout",
          "text": [
            "Experiment: 1\n"
          ]
        },
        {
          "output_type": "stream",
          "name": "stderr",
          "text": [
            "100%|██████████| 5000/5000 [00:08<00:00, 572.63it/s]\n"
          ]
        },
        {
          "output_type": "stream",
          "name": "stdout",
          "text": [
            "Experiment: 1\n"
          ]
        },
        {
          "output_type": "stream",
          "name": "stderr",
          "text": [
            "100%|██████████| 5000/5000 [00:09<00:00, 536.77it/s]\n"
          ]
        },
        {
          "output_type": "stream",
          "name": "stdout",
          "text": [
            "Experiment: 1\n"
          ]
        },
        {
          "output_type": "stream",
          "name": "stderr",
          "text": [
            "100%|██████████| 5000/5000 [00:08<00:00, 569.22it/s]\n"
          ]
        },
        {
          "output_type": "stream",
          "name": "stdout",
          "text": [
            "Experiment: 1\n"
          ]
        },
        {
          "output_type": "stream",
          "name": "stderr",
          "text": [
            "100%|██████████| 5000/5000 [00:09<00:00, 552.34it/s]\n"
          ]
        }
      ]
    },
    {
      "cell_type": "code",
      "source": [
        "# Plotting average total reward\n",
        "plt.figure()\n",
        "plt.plot(reward_avgs, label='Average Total Reward')\n",
        "plt.axhline(y=np.mean(reward_avgs), color='black', linestyle='--', label='Mean Reward')  # Highlight mean\n",
        "plt.axhline(y=np.mean(reward_avgs) + np.std(reward_avgs), color='r', linestyle='--', label='+1 Std Dev')  # Highlight mean + 1 std dev\n",
        "plt.axhline(y=np.mean(reward_avgs) - np.std(reward_avgs), color='r', linestyle='--', label='-1 Std Dev')  # Highlight mean - 1 std dev\n",
        "plt.text(2500, np.mean(reward_avgs), f'Mean: {np.mean(reward_avgs):.2f}', color='black', ha='center', va='bottom')  # Add mean value as text\n",
        "plt.text(1000, np.mean(reward_avgs) + np.std(reward_avgs), f'+1 Std Dev: {np.mean(reward_avgs) + np.std(reward_avgs):.2f}', color='r', ha='right', va='bottom')  # Add +1 std dev value as text\n",
        "plt.text(4000, np.mean(reward_avgs) - np.std(reward_avgs), f'-1 Std Dev: {np.mean(reward_avgs) - np.std(reward_avgs):.2f}', color='r', ha='left', va='top')  # Add -1 std dev value as text\n",
        "plt.xlabel('Episode')\n",
        "plt.legend()\n",
        "plt.ylabel('Total Reward')\n",
        "plt.title('Average Total Reward over Episodes : Experiment %d '%(f1+1))  # Assign title to the graph\n",
        "plt.show()\n",
        "\n",
        "# Plotting average total steps\n",
        "plt.figure()\n",
        "plt.plot(steps_avgs, label='Average Steps to Goal')\n",
        "plt.axhline(y=np.mean(steps_avgs), color='black', linestyle='--', label='Mean Steps')  # Highlight mean\n",
        "plt.axhline(y=np.mean(steps_avgs) + np.std(steps_avgs), color='r', linestyle='--', label='+1 Std Dev')  # Highlight mean + 1 std dev\n",
        "plt.axhline(y=np.mean(steps_avgs) - np.std(steps_avgs), color='r', linestyle='--', label='-1 Std Dev')  # Highlight mean - 1 std dev\n",
        "plt.text(2500, np.mean(steps_avgs), f'Mean: {np.mean(steps_avgs):.2f}', color='black', ha='center', va='bottom')  # Add mean value as text\n",
        "plt.text(1000, np.mean(steps_avgs) + np.std(steps_avgs), f'+1 Std Dev: {np.mean(steps_avgs) + np.std(steps_avgs):.2f}', color='r', ha='right', va='bottom')  # Add +1 std dev value as text\n",
        "plt.text(4000, np.mean(steps_avgs) - np.std(steps_avgs), f'-1 Std Dev: {np.mean(steps_avgs) - np.std(steps_avgs):.2f}', color='r', ha='left', va='top')  # Add -1 std dev value as text\n",
        "plt.xlabel('Episode')\n",
        "plt.legend()\n",
        "plt.ylabel('Number of Steps to Goal')\n",
        "plt.title('Average Total Steps over Episodes : Experiment %d '%(f1+1))  # Assign title to the graph\n",
        "plt.show()\n",
        "\n"
      ],
      "metadata": {
        "colab": {
          "base_uri": "https://localhost:8080/",
          "height": 927
        },
        "id": "9zjUUfeFAkjZ",
        "outputId": "916086fc-99df-40f4-803a-6f2aa9a2ed7b"
      },
      "execution_count": 19,
      "outputs": [
        {
          "output_type": "display_data",
          "data": {
            "text/plain": [
              "<Figure size 640x480 with 1 Axes>"
            ],
            "image/png": "[encoded data removed]"
          },
          "metadata": {}
        },
        {
          "output_type": "display_data",
          "data": {
            "text/plain": [
              "<Figure size 640x480 with 1 Axes>"
            ],
            "image/png": "[encoded data removed]"
          },
          "metadata": {}
        }
      ]
    },
    {
      "cell_type": "markdown",
      "source": [
        "# Heatmap Plots for Visits"
      ],
      "metadata": {
        "id": "ua0JvxXOFoR5"
      }
    },
    {
      "cell_type": "code",
      "source": [
        "def plot_heatmap(data, mean_visits = 0, experiment_num = 0):\n",
        "\n",
        "        plt.title(f\" Avg Number Of Visits for Experiment %d is :%.2f \"%((experiment_num) , (mean_visits)))\n",
        "        plt.imshow(np.flipud(data), cmap = 'hot', interpolation='nearest')\n",
        "        plt.colorbar()\n",
        "        plt.show()"
      ],
      "metadata": {
        "id": "pIqIl6ybNZqb"
      },
      "execution_count": 20,
      "outputs": []
    },
    {
      "cell_type": "code",
      "source": [
        "#Note:\n",
        "\n",
        "\n",
        "f1=0 # choose Experiment number use 0-based index from above environments list\n",
        "\n",
        "f2=0 # for chosing sarsa or q-learning based on result got from both algorithm using hyperparameters\n",
        "\n",
        "epsilon=0.1\n",
        "\n",
        "# Assigning best hyperparameter values based on graph provided in report\n",
        "\n",
        "if(f1==0): # f1 is Experiment number 0 based index so f1 ranges from 0 to 5\n",
        "  choose_action=1\n",
        "  f2=1\n",
        "  tau=0.1\n",
        "  alpha=0.4\n",
        "  gamma=0.99\n",
        "elif(f1==1):\n",
        "  choose_action=1\n",
        "  f2=0\n",
        "  tau=0.01\n",
        "  alpha=0.1\n",
        "  gamma=0.99\n",
        "elif(f1==2):\n",
        "  choose_action=1\n",
        "  f2=1\n",
        "  tau=0.1\n",
        "  alpha=0.2\n",
        "  gamma=0.99\n",
        "elif(f1==3):\n",
        "  choose_action=1\n",
        "  f2=0\n",
        "  tau=0.1\n",
        "  alpha=0.2\n",
        "  gamma=0.99\n",
        "elif(f1==4):\n",
        "  choose_action=1\n",
        "  f2=0\n",
        "  tau=0.4\n",
        "  alpha=0.2\n",
        "  gamma=0.99\n",
        "elif(f1==5):\n",
        "  choose_action=1\n",
        "  f2=0\n",
        "  tau=0.01\n",
        "  alpha=0.1\n",
        "  gamma=0.99\n",
        "else:\n",
        "  choose_action=1\n",
        "  f2=0\n",
        "  tau=0.01\n",
        "  alpha=0.1\n",
        "  gamma=0.99\n",
        "  epsilon=0.1\n",
        "\n",
        "\n",
        "\n",
        "vis=np.zeros((10,10)) # Making new grid for storing visit count\n",
        "num_expts=5\n",
        "\n",
        "for i in range(num_expts):\n",
        "    print(\"Experiment: %d\"%(f1+1))\n",
        "    Q = np.zeros((10, 10, 4))\n",
        "    rg = np.random.RandomState(i)\n",
        "\n",
        "\n",
        "    if(f2==0): # f2 used for chosing sarsa or q-learning based on result got from both algorithm using hyperparameters\n",
        "      Q, rewards, steps,visits = sarsa(list(environments.values())[f1], Q, plot_heat=False, choose_action=choose_action, epsilon= epsilon,tau = tau, alpha=alpha , gamma=gamma, experiment_number= i + 1)\n",
        "    elif(f2==1):\n",
        "      Q, rewards, steps,visits = qlearning(list(environments.values())[f1], Q, plot_heat=False, choose_action=choose_action, epsilon= epsilon,tau = tau, alpha=alpha , gamma=gamma, experiment_number= i + 1)\n",
        "\n",
        "    #Adding number of visits in grid for each cell over 5 runs\n",
        "    vis=vis + visits\n",
        "# averaging over 5 runs\n",
        "vis = vis/num_expts\n",
        "\n",
        "\n",
        "plot_heatmap(vis,np.mean(vis),(f1+1))"
      ],
      "metadata": {
        "colab": {
          "base_uri": "https://localhost:8080/",
          "height": 784
        },
        "id": "2rQpufSAFyPw",
        "outputId": "12956c47-757a-4287-82f4-a3a186839542"
      },
      "execution_count": 22,
      "outputs": [
        {
          "output_type": "stream",
          "name": "stdout",
          "text": [
            "Experiment: 1\n"
          ]
        },
        {
          "output_type": "stream",
          "name": "stderr",
          "text": [
            "  0%|          | 0/5000 [00:00<?, ?it/s]<ipython-input-3-9fb1bda1c7fb>:227: DeprecationWarning: Conversion of an array with ndim > 0 to a scalar is deprecated, and will error in future. Ensure you extract a single element from your array before performing this operation. (Deprecated NumPy 1.25.)\n",
            "  return int(self.start_state_seq)\n",
            "<ipython-input-16-5b498b0eb2e1>:47: DeprecationWarning: Conversion of an array with ndim > 0 to a scalar is deprecated, and will error in future. Ensure you extract a single element from your array before performing this operation. (Deprecated NumPy 1.25.)\n",
            "  Q[state_[0][0]][state_[0][1]][action] += alpha * (reward + gamma * Q[state_next_[0][0]][state_next_[0][1]][action_next] - Q[state_[0][0]][state_[0][1]][action])\n",
            "<ipython-input-16-5b498b0eb2e1>:53: DeprecationWarning: Conversion of an array with ndim > 0 to a scalar is deprecated, and will error in future. Ensure you extract a single element from your array before performing this operation. (Deprecated NumPy 1.25.)\n",
            "  Q[state_[0][0]][state_[0][1]][action] += alpha * (reward + gamma * max_next_q_value - Q[state_[0][0]][state_[0][1]][action])\n",
            "<ipython-input-16-5b498b0eb2e1>:60: DeprecationWarning: Conversion of an array with ndim > 0 to a scalar is deprecated, and will error in future. Ensure you extract a single element from your array before performing this operation. (Deprecated NumPy 1.25.)\n",
            "  episode_rewards[ep] = tot_reward\n",
            "100%|██████████| 5000/5000 [00:09<00:00, 511.77it/s]\n"
          ]
        },
        {
          "output_type": "stream",
          "name": "stdout",
          "text": [
            "Experiment: 1\n"
          ]
        },
        {
          "output_type": "stream",
          "name": "stderr",
          "text": [
            "100%|██████████| 5000/5000 [00:08<00:00, 614.04it/s]\n"
          ]
        },
        {
          "output_type": "stream",
          "name": "stdout",
          "text": [
            "Experiment: 1\n"
          ]
        },
        {
          "output_type": "stream",
          "name": "stderr",
          "text": [
            "100%|██████████| 5000/5000 [00:09<00:00, 514.30it/s]\n"
          ]
        },
        {
          "output_type": "stream",
          "name": "stdout",
          "text": [
            "Experiment: 1\n"
          ]
        },
        {
          "output_type": "stream",
          "name": "stderr",
          "text": [
            "100%|██████████| 5000/5000 [00:08<00:00, 555.62it/s]\n"
          ]
        },
        {
          "output_type": "stream",
          "name": "stdout",
          "text": [
            "Experiment: 1\n"
          ]
        },
        {
          "output_type": "stream",
          "name": "stderr",
          "text": [
            "100%|██████████| 5000/5000 [00:09<00:00, 536.02it/s]\n"
          ]
        },
        {
          "output_type": "display_data",
          "data": {
            "text/plain": [
              "<Figure size 640x480 with 2 Axes>"
            ],
            "image/png": "[encoded data removed]"
          },
          "metadata": {}
        }
      ]
    },
    {
      "cell_type": "markdown",
      "source": [
        "# Heatmap for Q values"
      ],
      "metadata": {
        "id": "jyxTnYeDYi1h"
      }
    },
    {
      "cell_type": "code",
      "source": [
        "def plot_Q(Q, message = \"Q plot\"):\n",
        "\n",
        "    plt.figure(figsize=(10,10))\n",
        "    plt.title(message)\n",
        "    plt.pcolor(Q.max(-1), edgecolors='k', linewidths=2)\n",
        "    plt.colorbar()\n",
        "    def x_direct(a):\n",
        "        if a in [UP, DOWN]:\n",
        "            return 0\n",
        "        return 1 if a == RIGHT else -1\n",
        "    def y_direct(a):\n",
        "        if a in [RIGHT, LEFT]:\n",
        "            return 0\n",
        "        return 1 if a == DOWN else -1\n",
        "    policy = Q.argmax(-1)\n",
        "    policyx = np.vectorize(x_direct)(policy)\n",
        "    policyy = np.vectorize(y_direct)(policy)\n",
        "    idx = np.indices(policy.shape)\n",
        "    plt.quiver(idx[1].ravel()+0.5, idx[0].ravel()+0.5, policyx.ravel(), policyy.ravel(), pivot=\"middle\", color='red')\n",
        "    plt.show()\n",
        "Q = np.zeros((10, 10, 4))"
      ],
      "metadata": {
        "id": "_0depV7iMvEY"
      },
      "execution_count": 24,
      "outputs": []
    },
    {
      "cell_type": "code",
      "source": [
        "# Note:\n",
        "\n",
        "\n",
        "f1=0 # choose Experiment number use 0-based index from above environments list\n",
        "\n",
        "f2=0 # for chosing sarsa or q-learning based on result got from both algorithm using hyperparameters\n",
        "\n",
        "epsilon=0.1\n",
        "\n",
        "# Assigning best hyperparameter values based on graph provided in report\n",
        "\n",
        "if(f1==0): # f1 is Experiment number 0 based index so f1 ranges from 0 to 5\n",
        "  choose_action=1\n",
        "  f2=1\n",
        "  tau=0.1\n",
        "  alpha=0.4\n",
        "  gamma=0.99\n",
        "elif(f1==1):\n",
        "  choose_action=1\n",
        "  f2=0\n",
        "  tau=0.01\n",
        "  alpha=0.1\n",
        "  gamma=0.99\n",
        "elif(f1==2):\n",
        "  choose_action=1\n",
        "  f2=1\n",
        "  tau=0.1\n",
        "  alpha=0.2\n",
        "  gamma=0.99\n",
        "elif(f1==3):\n",
        "  choose_action=1\n",
        "  f2=0\n",
        "  tau=0.1\n",
        "  alpha=0.2\n",
        "  gamma=0.99\n",
        "elif(f1==4):\n",
        "  choose_action=1\n",
        "  f2=0\n",
        "  tau=0.4\n",
        "  alpha=0.2\n",
        "  gamma=0.99\n",
        "elif(f1==5):\n",
        "  choose_action=1\n",
        "  f2=0\n",
        "  tau=0.01\n",
        "  alpha=0.1\n",
        "  gamma=0.99\n",
        "else:\n",
        "  choose_action=1\n",
        "  f2=0\n",
        "  tau=0.01\n",
        "  alpha=0.1\n",
        "  gamma=0.99\n",
        "  epsilon=0.1\n",
        "\n",
        "\n",
        "num_expts = 5\n",
        "reward_avgs, steps_avgs = np.zeros(5000), np.zeros(5000)\n",
        "Q1=np.zeros((10,10,4)) # for storing Q values\n",
        "\n",
        "for i in range(num_expts):\n",
        "    print(\"Experiment: %d\"%(f1+1))\n",
        "    Q = np.zeros((10, 10, 4))\n",
        "    rg = np.random.RandomState(i)\n",
        "\n",
        "    # TODO: run sarsa, store metrics\n",
        "    if(f2==0): # f2 used for chosing sarsa or q-learning based on result got from both algorithm using hyperparameters\n",
        "      Q, rewards, steps,visits = sarsa(list(environments.values())[f1], Q, plot_heat=False, choose_action=choose_action, epsilon= epsilon,tau = tau, alpha=alpha , gamma=gamma, experiment_number= i + 1)\n",
        "    elif(f2==1):\n",
        "      Q, rewards, steps,visits = qlearning(list(environments.values())[f1], Q, plot_heat=False, choose_action=choose_action, epsilon= epsilon,tau = tau, alpha=alpha , gamma=gamma, experiment_number= i + 1)\n",
        "\n",
        "    # adding Q values,reward and steps returned by algorithm 5 times\n",
        "    Q1 = Q1 + Q\n",
        "    reward_avgs = reward_avgs + rewards\n",
        "    steps_avgs = steps_avgs + steps\n",
        "\n",
        "#averaging over 5 runs\n",
        "reward_avgs = reward_avgs/num_expts\n",
        "steps_avgs = steps_avgs/num_expts\n",
        "Q1 = Q1/num_expts\n",
        "\n",
        "\n",
        "\n",
        "if(f2==1):# f2 used for chosing sarsa or q-learning based on result got from both algorithm using hyperparameters\n",
        "  message = f\"Q-Learning ( Experiment: {f1+1} )\\n\"\n",
        "else:\n",
        "  message = f\"SARSA ( Experiment: {f1+1} )\\n\"\n",
        "message += f\" Wind: {list(environments.values())[f1].wind}\\n\"\n",
        "message += f\" probability: {list(environments.values())[f1].p_good_trans}\\n\"\n",
        "message += f\" Start State: {list(environments.values())[f1].start_state}\\n\"\n",
        "if choose_action == 0:\n",
        "    message += f\" For Method Epsilon Greedy = {epsilon}\\n\"\n",
        "else:\n",
        "    message += f\" For Method : Softmax = {tau}\\n\"\n",
        "message += f\" For Alpha := {alpha}\\n\"\n",
        "message += f\" For Gamma := {gamma}\\n\"\n",
        "message += \"Q-Mean: %f,Avg Reward: %f,Avg Steps: %.2f\"%(np.mean(Q1),np.mean(reward_avgs),np.mean(steps_avgs))\n",
        "\n",
        "plot_Q(Q1,message)"
      ],
      "metadata": {
        "colab": {
          "base_uri": "https://localhost:8080/",
          "height": 1000
        },
        "id": "_uVNv_u2KzVL",
        "outputId": "38abd66b-b5b3-4fe2-c5ae-a9f9d5193c1d"
      },
      "execution_count": 25,
      "outputs": [
        {
          "output_type": "stream",
          "name": "stdout",
          "text": [
            "Experiment: 1\n"
          ]
        },
        {
          "output_type": "stream",
          "name": "stderr",
          "text": [
            "  0%|          | 0/5000 [00:00<?, ?it/s]<ipython-input-3-9fb1bda1c7fb>:227: DeprecationWarning: Conversion of an array with ndim > 0 to a scalar is deprecated, and will error in future. Ensure you extract a single element from your array before performing this operation. (Deprecated NumPy 1.25.)\n",
            "  return int(self.start_state_seq)\n",
            "<ipython-input-16-5b498b0eb2e1>:47: DeprecationWarning: Conversion of an array with ndim > 0 to a scalar is deprecated, and will error in future. Ensure you extract a single element from your array before performing this operation. (Deprecated NumPy 1.25.)\n",
            "  Q[state_[0][0]][state_[0][1]][action] += alpha * (reward + gamma * Q[state_next_[0][0]][state_next_[0][1]][action_next] - Q[state_[0][0]][state_[0][1]][action])\n",
            "<ipython-input-16-5b498b0eb2e1>:53: DeprecationWarning: Conversion of an array with ndim > 0 to a scalar is deprecated, and will error in future. Ensure you extract a single element from your array before performing this operation. (Deprecated NumPy 1.25.)\n",
            "  Q[state_[0][0]][state_[0][1]][action] += alpha * (reward + gamma * max_next_q_value - Q[state_[0][0]][state_[0][1]][action])\n",
            "<ipython-input-16-5b498b0eb2e1>:60: DeprecationWarning: Conversion of an array with ndim > 0 to a scalar is deprecated, and will error in future. Ensure you extract a single element from your array before performing this operation. (Deprecated NumPy 1.25.)\n",
            "  episode_rewards[ep] = tot_reward\n",
            "100%|██████████| 5000/5000 [00:09<00:00, 512.87it/s]\n"
          ]
        },
        {
          "output_type": "stream",
          "name": "stdout",
          "text": [
            "Experiment: 1\n"
          ]
        },
        {
          "output_type": "stream",
          "name": "stderr",
          "text": [
            "100%|██████████| 5000/5000 [00:09<00:00, 531.30it/s]\n"
          ]
        },
        {
          "output_type": "stream",
          "name": "stdout",
          "text": [
            "Experiment: 1\n"
          ]
        },
        {
          "output_type": "stream",
          "name": "stderr",
          "text": [
            "100%|██████████| 5000/5000 [00:08<00:00, 582.16it/s]\n"
          ]
        },
        {
          "output_type": "stream",
          "name": "stdout",
          "text": [
            "Experiment: 1\n"
          ]
        },
        {
          "output_type": "stream",
          "name": "stderr",
          "text": [
            "100%|██████████| 5000/5000 [00:09<00:00, 511.70it/s]\n"
          ]
        },
        {
          "output_type": "stream",
          "name": "stdout",
          "text": [
            "Experiment: 1\n"
          ]
        },
        {
          "output_type": "stream",
          "name": "stderr",
          "text": [
            "100%|██████████| 5000/5000 [00:08<00:00, 568.22it/s]\n"
          ]
        },
        {
          "output_type": "display_data",
          "data": {
            "text/plain": [
              "<Figure size 1000x1000 with 2 Axes>"
            ],
            "image/png": "[encoded data removed]"
          },
          "metadata": {}
        }
      ]
    },
    {
      "cell_type": "code",
      "source": [
        "environments"
      ],
      "metadata": {
        "colab": {
          "base_uri": "https://localhost:8080/"
        },
        "id": "N2mz1tPrAH2R",
        "outputId": "5861dcdf-a995-4382-93d1-78c6e06273b0"
      },
      "execution_count": 23,
      "outputs": [
        {
          "output_type": "execute_result",
          "data": {
            "text/plain": [
              "{'wind=True, p_good_transition=1.0, start_state=[[3 6]]': <__main__.GridWorld at 0x7e89841c7df0>,\n",
              " 'wind=True, p_good_transition=1.0, start_state=[[0 4]]': <__main__.GridWorld at 0x7e89841c7160>,\n",
              " 'wind=False, p_good_transition=1.0, start_state=[[3 6]]': <__main__.GridWorld at 0x7e89841c7130>,\n",
              " 'wind=False, p_good_transition=1.0, start_state=[[0 4]]': <__main__.GridWorld at 0x7e89841c7190>,\n",
              " 'wind=False, p_good_transition=0.7, start_state=[[3 6]]': <__main__.GridWorld at 0x7e89841c41c0>,\n",
              " 'wind=False, p_good_transition=0.7, start_state=[[0 4]]': <__main__.GridWorld at 0x7e89841c52a0>}"
            ]
          },
          "metadata": {},
          "execution_count": 23
        }
      ]
    },
    {
      "cell_type": "markdown",
      "source": [
        "# ROBOT MOVEMENT DEMO"
      ],
      "metadata": {
        "id": "P8t1bHJrlETr"
      }
    },
    {
      "cell_type": "code",
      "source": [
        "from time import sleep\n",
        "import matplotlib.pyplot as plt\n",
        "\n",
        "i=0 # Choose which environment you want to see from above 6 i value is from 0 to 5\n",
        "\n",
        "env2=list(environments.values())[i]\n",
        "\n",
        "state = env2.reset()\n",
        "state_ = seq_to_col_row(state, num_cols)\n",
        "done = False\n",
        "steps = 0\n",
        "tot_reward = 0\n",
        "\n",
        "while not done:\n",
        "    clear_output(wait=True)\n",
        "    state, reward, done = env2.step(state,Q[state_[0][0]][state_[0][1]].argmax())\n",
        "    state_=seq_to_col_row(state, num_cols)\n",
        "    plt.figure(figsize=(10, 10))\n",
        "    env.render(state_,ax=plt, render_agent=True)\n",
        "    plt.show()\n",
        "    steps += 1\n",
        "    tot_reward += reward\n",
        "    sleep(0.2)\n",
        "print(\"Steps: %d, Total Reward: %d\"%(steps, tot_reward))"
      ],
      "metadata": {
        "colab": {
          "base_uri": "https://localhost:8080/",
          "height": 908
        },
        "id": "TfUIAP7jBvi0",
        "outputId": "f92fe6e4-6a44-4c63-d080-5ec9ed408d19"
      },
      "execution_count": 28,
      "outputs": [
        {
          "output_type": "display_data",
          "data": {
            "text/plain": [
              "<Figure size 1000x1000 with 1 Axes>"
            ],
            "image/png": "[encoded data removed]"
          },
          "metadata": {}
        },
        {
          "output_type": "stream",
          "name": "stdout",
          "text": [
            "Steps: 10, Total Reward: -4\n"
          ]
        },
        {
          "output_type": "stream",
          "name": "stderr",
          "text": [
            "<ipython-input-28-cc206ba2421e>:24: DeprecationWarning: Conversion of an array with ndim > 0 to a scalar is deprecated, and will error in future. Ensure you extract a single element from your array before performing this operation. (Deprecated NumPy 1.25.)\n",
            "  print(\"Steps: %d, Total Reward: %d\"%(steps, tot_reward))\n"
          ]
        }
      ]
    }
  ],
  "metadata": {
    "colab": {
      "provenance": []
    },
    "kernelspec": {
      "display_name": "Python 3",
      "name": "python3"
    },
    "language_info": {
      "name": "python"
    }
  },
  "nbformat": 4,
  "nbformat_minor": 0
}